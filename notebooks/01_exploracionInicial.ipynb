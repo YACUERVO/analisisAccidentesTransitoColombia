{
 "cells": [
  {
   "cell_type": "code",
   "execution_count": 27,
   "id": "5a3e4298-dc17-4847-b371-3b26ae720206",
   "metadata": {},
   "outputs": [
    {
     "name": "stdout",
     "output_type": "stream",
     "text": [
      "Entorno listo\n"
     ]
    }
   ],
   "source": [
    "# Importar librerias para el analisis y la visualizacion\n",
    "import pandas as pd\n",
    "import numpy as np\n",
    "import matplotlib.pyplot as plt\n",
    "import seaborn as sns\n",
    "\n",
    "# Configuracion estetica de los graficos\n",
    "\n",
    "sns.set(style=\"whitegrid\")\n",
    "\n",
    "plt.rcParams[\"figure.figsize\"]=(12,7)\n",
    "\n",
    "print(\"Entorno listo\")\n",
    "\n"
   ]
  },
  {
   "cell_type": "code",
   "execution_count": 28,
   "id": "e6a42db1-dc5f-48ab-8d85-4e9ca3eba254",
   "metadata": {},
   "outputs": [
    {
     "data": {
      "text/html": [
       "<div>\n",
       "<style scoped>\n",
       "    .dataframe tbody tr th:only-of-type {\n",
       "        vertical-align: middle;\n",
       "    }\n",
       "\n",
       "    .dataframe tbody tr th {\n",
       "        vertical-align: top;\n",
       "    }\n",
       "\n",
       "    .dataframe thead th {\n",
       "        text-align: right;\n",
       "    }\n",
       "</style>\n",
       "<table border=\"1\" class=\"dataframe\">\n",
       "  <thead>\n",
       "    <tr style=\"text-align: right;\">\n",
       "      <th></th>\n",
       "      <th>ORDEN</th>\n",
       "      <th>IPAT</th>\n",
       "      <th>FECHA</th>\n",
       "      <th>AÑO</th>\n",
       "      <th>MES</th>\n",
       "      <th>DIA</th>\n",
       "      <th>GRAVEDAD</th>\n",
       "    </tr>\n",
       "  </thead>\n",
       "  <tbody>\n",
       "    <tr>\n",
       "      <th>0</th>\n",
       "      <td>1</td>\n",
       "      <td>A000057026</td>\n",
       "      <td>2017-03-16T00:00:00.000</td>\n",
       "      <td>2017</td>\n",
       "      <td>3</td>\n",
       "      <td>jueves</td>\n",
       "      <td>CON HERIDOS</td>\n",
       "    </tr>\n",
       "    <tr>\n",
       "      <th>1</th>\n",
       "      <td>2</td>\n",
       "      <td>A000057029</td>\n",
       "      <td>2017-03-14T00:00:00.000</td>\n",
       "      <td>2017</td>\n",
       "      <td>3</td>\n",
       "      <td>martes</td>\n",
       "      <td>CON HERIDOS</td>\n",
       "    </tr>\n",
       "    <tr>\n",
       "      <th>2</th>\n",
       "      <td>3</td>\n",
       "      <td>A000057030</td>\n",
       "      <td>2017-03-14T00:00:00.000</td>\n",
       "      <td>2017</td>\n",
       "      <td>3</td>\n",
       "      <td>martes</td>\n",
       "      <td>CON HERIDOS</td>\n",
       "    </tr>\n",
       "    <tr>\n",
       "      <th>3</th>\n",
       "      <td>4</td>\n",
       "      <td>A000057022</td>\n",
       "      <td>2017-03-14T00:00:00.000</td>\n",
       "      <td>2017</td>\n",
       "      <td>3</td>\n",
       "      <td>martes</td>\n",
       "      <td>SOLO DAÑOS</td>\n",
       "    </tr>\n",
       "    <tr>\n",
       "      <th>4</th>\n",
       "      <td>5</td>\n",
       "      <td>A000056976</td>\n",
       "      <td>2017-03-14T00:00:00.000</td>\n",
       "      <td>2017</td>\n",
       "      <td>3</td>\n",
       "      <td>martes</td>\n",
       "      <td>SOLO DAÑOS</td>\n",
       "    </tr>\n",
       "  </tbody>\n",
       "</table>\n",
       "</div>"
      ],
      "text/plain": [
       "   ORDEN        IPAT                    FECHA   AÑO  MES     DIA     GRAVEDAD\n",
       "0      1  A000057026  2017-03-16T00:00:00.000  2017    3  jueves  CON HERIDOS\n",
       "1      2  A000057029  2017-03-14T00:00:00.000  2017    3  martes  CON HERIDOS\n",
       "2      3  A000057030  2017-03-14T00:00:00.000  2017    3  martes  CON HERIDOS\n",
       "3      4  A000057022  2017-03-14T00:00:00.000  2017    3  martes   SOLO DAÑOS\n",
       "4      5  A000056976  2017-03-14T00:00:00.000  2017    3  martes   SOLO DAÑOS"
      ]
     },
     "execution_count": 28,
     "metadata": {},
     "output_type": "execute_result"
    }
   ],
   "source": [
    "# Cargar datos\n",
    "ruta_archivo = ('../data/raw/ACCIDENTES_DE_TRANSITO_DESDE_MARZO__2017_A_DICIEMBRE_DE_2022_20250527 (1).csv')\n",
    "df = pd.read_csv(ruta_archivo,sep=';')\n",
    "\n",
    "#Mostrar las primeras filas\n",
    "df.head()"
   ]
  },
  {
   "cell_type": "code",
   "execution_count": 29,
   "id": "b8a5c42c-c6a0-404b-b903-ff5ca59f8a3c",
   "metadata": {},
   "outputs": [
    {
     "name": "stdout",
     "output_type": "stream",
     "text": [
      "Informacion general del dataframe\n",
      "<class 'pandas.core.frame.DataFrame'>\n",
      "RangeIndex: 1724 entries, 0 to 1723\n",
      "Data columns (total 7 columns):\n",
      " #   Column    Non-Null Count  Dtype \n",
      "---  ------    --------------  ----- \n",
      " 0   ORDEN     1724 non-null   int64 \n",
      " 1   IPAT      1724 non-null   object\n",
      " 2   FECHA     1724 non-null   object\n",
      " 3   AÑO       1724 non-null   int64 \n",
      " 4   MES       1724 non-null   int64 \n",
      " 5   DIA       1724 non-null   object\n",
      " 6   GRAVEDAD  1724 non-null   object\n",
      "dtypes: int64(3), object(4)\n",
      "memory usage: 94.4+ KB\n"
     ]
    }
   ],
   "source": [
    "print(\"Informacion general del dataframe\")\n",
    "df.info()"
   ]
  },
  {
   "cell_type": "code",
   "execution_count": 30,
   "id": "c4897c98-6d51-4b54-a137-d061847abf21",
   "metadata": {},
   "outputs": [
    {
     "name": "stdout",
     "output_type": "stream",
     "text": [
      "Estadisticas basicas de los datos\n"
     ]
    },
    {
     "data": {
      "text/html": [
       "<div>\n",
       "<style scoped>\n",
       "    .dataframe tbody tr th:only-of-type {\n",
       "        vertical-align: middle;\n",
       "    }\n",
       "\n",
       "    .dataframe tbody tr th {\n",
       "        vertical-align: top;\n",
       "    }\n",
       "\n",
       "    .dataframe thead th {\n",
       "        text-align: right;\n",
       "    }\n",
       "</style>\n",
       "<table border=\"1\" class=\"dataframe\">\n",
       "  <thead>\n",
       "    <tr style=\"text-align: right;\">\n",
       "      <th></th>\n",
       "      <th>ORDEN</th>\n",
       "      <th>AÑO</th>\n",
       "      <th>MES</th>\n",
       "    </tr>\n",
       "  </thead>\n",
       "  <tbody>\n",
       "    <tr>\n",
       "      <th>count</th>\n",
       "      <td>1724.000000</td>\n",
       "      <td>1724.000000</td>\n",
       "      <td>1724.000000</td>\n",
       "    </tr>\n",
       "    <tr>\n",
       "      <th>mean</th>\n",
       "      <td>862.500000</td>\n",
       "      <td>2019.316125</td>\n",
       "      <td>6.237819</td>\n",
       "    </tr>\n",
       "    <tr>\n",
       "      <th>std</th>\n",
       "      <td>497.820249</td>\n",
       "      <td>1.656642</td>\n",
       "      <td>3.306591</td>\n",
       "    </tr>\n",
       "    <tr>\n",
       "      <th>min</th>\n",
       "      <td>1.000000</td>\n",
       "      <td>2017.000000</td>\n",
       "      <td>1.000000</td>\n",
       "    </tr>\n",
       "    <tr>\n",
       "      <th>25%</th>\n",
       "      <td>431.750000</td>\n",
       "      <td>2018.000000</td>\n",
       "      <td>3.000000</td>\n",
       "    </tr>\n",
       "    <tr>\n",
       "      <th>50%</th>\n",
       "      <td>862.500000</td>\n",
       "      <td>2019.000000</td>\n",
       "      <td>6.000000</td>\n",
       "    </tr>\n",
       "    <tr>\n",
       "      <th>75%</th>\n",
       "      <td>1293.250000</td>\n",
       "      <td>2021.000000</td>\n",
       "      <td>9.000000</td>\n",
       "    </tr>\n",
       "    <tr>\n",
       "      <th>max</th>\n",
       "      <td>1724.000000</td>\n",
       "      <td>2022.000000</td>\n",
       "      <td>12.000000</td>\n",
       "    </tr>\n",
       "  </tbody>\n",
       "</table>\n",
       "</div>"
      ],
      "text/plain": [
       "             ORDEN          AÑO          MES\n",
       "count  1724.000000  1724.000000  1724.000000\n",
       "mean    862.500000  2019.316125     6.237819\n",
       "std     497.820249     1.656642     3.306591\n",
       "min       1.000000  2017.000000     1.000000\n",
       "25%     431.750000  2018.000000     3.000000\n",
       "50%     862.500000  2019.000000     6.000000\n",
       "75%    1293.250000  2021.000000     9.000000\n",
       "max    1724.000000  2022.000000    12.000000"
      ]
     },
     "execution_count": 30,
     "metadata": {},
     "output_type": "execute_result"
    }
   ],
   "source": [
    "print(\"Estadisticas basicas de los datos\")\n",
    "df.describe()"
   ]
  },
  {
   "cell_type": "code",
   "execution_count": 31,
   "id": "7fa6f336-4e2d-4064-b3dd-b9f471cfb2c4",
   "metadata": {},
   "outputs": [
    {
     "name": "stdout",
     "output_type": "stream",
     "text": [
      "Validar si contiene valores nulos\n"
     ]
    },
    {
     "data": {
      "text/plain": [
       "ORDEN       0\n",
       "IPAT        0\n",
       "FECHA       0\n",
       "AÑO         0\n",
       "MES         0\n",
       "DIA         0\n",
       "GRAVEDAD    0\n",
       "dtype: int64"
      ]
     },
     "execution_count": 31,
     "metadata": {},
     "output_type": "execute_result"
    }
   ],
   "source": [
    "print(\"Validar si contiene valores nulos\")\n",
    "df.isnull().sum()\n"
   ]
  },
  {
   "cell_type": "code",
   "execution_count": 32,
   "id": "8878f720-16b0-42c3-a309-8bd00d96bcd1",
   "metadata": {},
   "outputs": [
    {
     "name": "stdout",
     "output_type": "stream",
     "text": [
      "Revisar si tiene valores unicos y detectar columnas poca utiles\n"
     ]
    },
    {
     "data": {
      "text/plain": [
       "ORDEN       1724\n",
       "IPAT        1724\n",
       "FECHA        222\n",
       "AÑO            6\n",
       "MES           12\n",
       "DIA            6\n",
       "GRAVEDAD       3\n",
       "dtype: int64"
      ]
     },
     "execution_count": 32,
     "metadata": {},
     "output_type": "execute_result"
    }
   ],
   "source": [
    "print(\"Revisar si tiene valores unicos y detectar columnas poca utiles\")\n",
    "df.nunique()"
   ]
  },
  {
   "cell_type": "code",
   "execution_count": 33,
   "id": "93ecccbf-0c28-48bf-bb21-b0683be51422",
   "metadata": {},
   "outputs": [
    {
     "data": {
      "text/plain": [
       "Index(['ORDEN', 'IPAT', 'FECHA', 'AÑO', 'MES', 'DIA', 'GRAVEDAD'], dtype='object')"
      ]
     },
     "execution_count": 33,
     "metadata": {},
     "output_type": "execute_result"
    }
   ],
   "source": [
    "df.columns"
   ]
  },
  {
   "cell_type": "code",
   "execution_count": 34,
   "id": "ada0d432-080f-4f0f-9297-097d2dc66a9f",
   "metadata": {},
   "outputs": [],
   "source": [
    "df.columns = df.columns.str.strip().str.upper().str.replace(' ', '_').str.replace('Á', 'A').str.replace('É', 'E').str.replace('Í', 'I').str.replace('Ó', 'O').str.replace('Ú', 'U')\n"
   ]
  },
  {
   "cell_type": "code",
   "execution_count": 35,
   "id": "51d41979-515f-4f87-a43f-d47a31a45a82",
   "metadata": {},
   "outputs": [
    {
     "data": {
      "text/plain": [
       "['ORDEN', 'IPAT', 'FECHA', 'AÑO', 'MES', 'DIA', 'GRAVEDAD']"
      ]
     },
     "execution_count": 35,
     "metadata": {},
     "output_type": "execute_result"
    }
   ],
   "source": [
    "df.columns.tolist()"
   ]
  },
  {
   "cell_type": "code",
   "execution_count": 36,
   "id": "993b210d-b220-47b0-bc2c-28a7f260230f",
   "metadata": {},
   "outputs": [],
   "source": [
    "df['FECHA'] = pd.to_datetime(df['FECHA'], errors='coerce')\n"
   ]
  },
  {
   "cell_type": "code",
   "execution_count": 39,
   "id": "911fc731-d512-4788-ace3-77bd649959d0",
   "metadata": {},
   "outputs": [
    {
     "data": {
      "text/plain": [
       "0       False\n",
       "1       False\n",
       "2       False\n",
       "3       False\n",
       "4       False\n",
       "        ...  \n",
       "1719    False\n",
       "1720    False\n",
       "1721    False\n",
       "1722    False\n",
       "1723    False\n",
       "Length: 1724, dtype: bool"
      ]
     },
     "execution_count": 39,
     "metadata": {},
     "output_type": "execute_result"
    }
   ],
   "source": [
    "df.duplicated()"
   ]
  },
  {
   "cell_type": "code",
   "execution_count": 38,
   "id": "58263259",
   "metadata": {},
   "outputs": [
    {
     "name": "stdout",
     "output_type": "stream",
     "text": [
      "se ha eliminado : \n",
      "       ORDEN        IPAT      FECHA   AÑO  MES     DIA     GRAVEDAD\n",
      "0         1  A000057026 2017-03-16  2017    3  jueves  CON HERIDOS\n",
      "1         2  A000057029 2017-03-14  2017    3  martes  CON HERIDOS\n",
      "2         3  A000057030 2017-03-14  2017    3  martes  CON HERIDOS\n",
      "3         4  A000057022 2017-03-14  2017    3  martes   SOLO DAÑOS\n",
      "4         5  A000056976 2017-03-14  2017    3  martes   SOLO DAÑOS\n",
      "...     ...         ...        ...   ...  ...     ...          ...\n",
      "1719   1720  A001460191 2022-12-19  2022   12   lunes  CON HERIDOS\n",
      "1720   1721  A001460190 2022-12-19  2022   12   lunes  CON HERIDOS\n",
      "1721   1722  A001460186 2022-12-19  2022   12   lunes  CON HERIDOS\n",
      "1722   1723  A001460187 2022-12-19  2022   12   lunes  CON HERIDOS\n",
      "1723   1724  A001460189 2022-12-19  2022   12   lunes  CON HERIDOS\n",
      "\n",
      "[1724 rows x 7 columns] \n",
      " datos duplicados\n"
     ]
    }
   ],
   "source": [
    "df = df.drop_duplicates()\n",
    "print(f\"se ha eliminado : \\n {df} \\n datos duplicados\")"
   ]
  },
  {
   "cell_type": "code",
   "execution_count": null,
   "id": "b25e29d8",
   "metadata": {},
   "outputs": [],
   "source": [
    "# Eliminar filas donde la columna FECHA sea nula\n",
    "\n"
   ]
  }
 ],
 "metadata": {
  "kernelspec": {
   "display_name": "venv",
   "language": "python",
   "name": "python3"
  },
  "language_info": {
   "codemirror_mode": {
    "name": "ipython",
    "version": 3
   },
   "file_extension": ".py",
   "mimetype": "text/x-python",
   "name": "python",
   "nbconvert_exporter": "python",
   "pygments_lexer": "ipython3",
   "version": "3.13.0"
  }
 },
 "nbformat": 4,
 "nbformat_minor": 5
}
